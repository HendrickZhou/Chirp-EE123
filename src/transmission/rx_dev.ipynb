{
 "cells": [
  {
   "cell_type": "code",
   "execution_count": 1,
   "metadata": {},
   "outputs": [],
   "source": [
    "import sys\n",
    "import os\n",
    "sys.path.append(\"/home/pi/EE123/Chirp-EE123\")\n",
    "\n",
    "cur_path = os.path.dirname('/home/pi/EE123/Chirp-EE123')\n",
    "sys.path.insert(0, '/home/pi/EE123/Chirp-EE123/src')\n",
    "\n",
    "from utils.EE123TNC import *\n",
    "from utils.hamming import *\n",
    "\n",
    "import sounddevice as sd\n",
    "import RPi.GPIO as GPIO"
   ]
  },
  {
   "cell_type": "markdown",
   "metadata": {},
   "source": [
    "# Record"
   ]
  },
  {
   "cell_type": "code",
   "execution_count": 2,
   "metadata": {},
   "outputs": [],
   "source": [
    "Qin = Queue.Queue()\n",
    "\n",
    "def queueREPLAY_callback(indata,outdata, frames, time, status):\n",
    "    if status:\n",
    "        print(status)\n",
    "    outdata[:] = indata\n",
    "    Qin.put( indata.copy()[:,0] ) # Global queue\n",
    "st = sd.Stream(device=(usb_idx,builtin_idx),callback=queueREPLAY_callback)\n",
    "\n",
    "st.start()"
   ]
  },
  {
   "cell_type": "markdown",
   "metadata": {},
   "source": [
    "Stop after TX has finished"
   ]
  },
  {
   "cell_type": "code",
   "execution_count": 3,
   "metadata": {},
   "outputs": [],
   "source": [
    "st.stop()\n",
    "st.close()"
   ]
  },
  {
   "cell_type": "markdown",
   "metadata": {},
   "source": [
    "# Decode and reconstruct image/gif"
   ]
  },
  {
   "cell_type": "code",
   "execution_count": 6,
   "metadata": {},
   "outputs": [
    {
     "name": "stdout",
     "output_type": "stream",
     "text": [
      "decoding packets\n"
     ]
    },
    {
     "ename": "NameError",
     "evalue": "name 'libcd' is not defined",
     "output_type": "error",
     "traceback": [
      "\u001b[0;31m---------------------------------------------------------------------------\u001b[0m",
      "\u001b[0;31mNameError\u001b[0m                                 Traceback (most recent call last)",
      "\u001b[0;32m<ipython-input-6-a80917829c56>\u001b[0m in \u001b[0;36m<module>\u001b[0;34m\u001b[0m\n\u001b[1;32m     10\u001b[0m \u001b[0;32mwhile\u001b[0m\u001b[0;34m(\u001b[0m\u001b[0;32mnot\u001b[0m\u001b[0;34m(\u001b[0m\u001b[0mQin\u001b[0m\u001b[0;34m.\u001b[0m\u001b[0mempty\u001b[0m\u001b[0;34m(\u001b[0m\u001b[0;34m)\u001b[0m\u001b[0;34m)\u001b[0m\u001b[0;34m)\u001b[0m\u001b[0;34m:\u001b[0m\u001b[0;34m\u001b[0m\u001b[0m\n\u001b[1;32m     11\u001b[0m     \u001b[0mmessage\u001b[0m\u001b[0;34m=\u001b[0m\u001b[0mQin\u001b[0m\u001b[0;34m.\u001b[0m\u001b[0mget\u001b[0m\u001b[0;34m(\u001b[0m\u001b[0;34m)\u001b[0m\u001b[0;34m\u001b[0m\u001b[0m\n\u001b[0;32m---> 12\u001b[0;31m     \u001b[0mpackets\u001b[0m\u001b[0;34m=\u001b[0m\u001b[0mmodem\u001b[0m\u001b[0;34m.\u001b[0m\u001b[0mprocessBuffer\u001b[0m\u001b[0;34m(\u001b[0m\u001b[0mmessage\u001b[0m\u001b[0;34m)\u001b[0m\u001b[0;34m\u001b[0m\u001b[0m\n\u001b[0m\u001b[1;32m     13\u001b[0m     \u001b[0;32mfor\u001b[0m \u001b[0mpacket\u001b[0m \u001b[0;32min\u001b[0m \u001b[0mpackets\u001b[0m\u001b[0;34m:\u001b[0m\u001b[0;34m\u001b[0m\u001b[0m\n\u001b[1;32m     14\u001b[0m         \u001b[0;31m#print(npack)\u001b[0m\u001b[0;34m\u001b[0m\u001b[0;34m\u001b[0m\u001b[0m\n",
      "\u001b[0;32m~/EE123/Chirp-EE123/src/utils/EE123TNC.py\u001b[0m in \u001b[0;36mprocessBuffer\u001b[0;34m(self, buff_in)\u001b[0m\n\u001b[1;32m    445\u001b[0m             \u001b[0;31m#bits = bitarray.bitarray((NRZI[idx]>0).tolist())\u001b[0m\u001b[0;34m\u001b[0m\u001b[0;34m\u001b[0m\u001b[0m\n\u001b[1;32m    446\u001b[0m \u001b[0;34m\u001b[0m\u001b[0m\n\u001b[0;32m--> 447\u001b[0;31m             \u001b[0mbits\u001b[0m \u001b[0;34m=\u001b[0m \u001b[0mself\u001b[0m\u001b[0;34m.\u001b[0m\u001b[0mFastPLL\u001b[0m\u001b[0;34m(\u001b[0m\u001b[0mNRZI\u001b[0m\u001b[0;34m)\u001b[0m\u001b[0;34m\u001b[0m\u001b[0m\n\u001b[0m\u001b[1;32m    448\u001b[0m             \u001b[0;31m# In case that buffer is too small raise an error -- must have at least 7 bits worth\u001b[0m\u001b[0;34m\u001b[0m\u001b[0;34m\u001b[0m\u001b[0m\n\u001b[1;32m    449\u001b[0m             \u001b[0;32mif\u001b[0m \u001b[0mlen\u001b[0m\u001b[0;34m(\u001b[0m\u001b[0mbits\u001b[0m\u001b[0;34m)\u001b[0m \u001b[0;34m<\u001b[0m \u001b[0;36m7\u001b[0m\u001b[0;34m:\u001b[0m\u001b[0;34m\u001b[0m\u001b[0m\n",
      "\u001b[0;32m~/EE123/Chirp-EE123/src/utils/EE123TNC.py\u001b[0m in \u001b[0;36mFastPLL\u001b[0;34m(self, NRZa)\u001b[0m\n\u001b[1;32m    245\u001b[0m \u001b[0;34m\u001b[0m\u001b[0m\n\u001b[1;32m    246\u001b[0m         \u001b[0mNRZb\u001b[0m \u001b[0;34m=\u001b[0m \u001b[0;34m(\u001b[0m\u001b[0mNRZa\u001b[0m \u001b[0;34m>\u001b[0m \u001b[0;36m0\u001b[0m\u001b[0;34m)\u001b[0m\u001b[0;34m.\u001b[0m\u001b[0mastype\u001b[0m\u001b[0;34m(\u001b[0m\u001b[0mnp\u001b[0m\u001b[0;34m.\u001b[0m\u001b[0mint32\u001b[0m\u001b[0;34m)\u001b[0m\u001b[0;34m\u001b[0m\u001b[0m\n\u001b[0;32m--> 247\u001b[0;31m         \u001b[0mtot\u001b[0m \u001b[0;34m=\u001b[0m \u001b[0mlibcd\u001b[0m\u001b[0;34m.\u001b[0m\u001b[0mpll\u001b[0m\u001b[0;34m(\u001b[0m\u001b[0mNRZb\u001b[0m\u001b[0;34m,\u001b[0m\u001b[0mlen\u001b[0m\u001b[0;34m(\u001b[0m\u001b[0mNRZb\u001b[0m\u001b[0;34m)\u001b[0m\u001b[0;34m,\u001b[0m\u001b[0mrecbits\u001b[0m\u001b[0;34m,\u001b[0m\u001b[0mrecbits\u001b[0m\u001b[0;34m,\u001b[0m\u001b[0mpll\u001b[0m\u001b[0;34m,\u001b[0m\u001b[0mppll\u001b[0m\u001b[0;34m,\u001b[0m\u001b[0mself\u001b[0m\u001b[0;34m.\u001b[0m\u001b[0mdpll\u001b[0m\u001b[0;34m,\u001b[0m\u001b[0mself\u001b[0m\u001b[0;34m.\u001b[0m\u001b[0mplla\u001b[0m\u001b[0;34m)\u001b[0m\u001b[0;34m\u001b[0m\u001b[0m\n\u001b[0m\u001b[1;32m    248\u001b[0m \u001b[0;34m\u001b[0m\u001b[0m\n\u001b[1;32m    249\u001b[0m         \u001b[0mself\u001b[0m\u001b[0;34m.\u001b[0m\u001b[0mppll\u001b[0m \u001b[0;34m=\u001b[0m \u001b[0mppll\u001b[0m\u001b[0;34m.\u001b[0m\u001b[0mcopy\u001b[0m\u001b[0;34m(\u001b[0m\u001b[0;34m)\u001b[0m\u001b[0;34m\u001b[0m\u001b[0m\n",
      "\u001b[0;31mNameError\u001b[0m: name 'libcd' is not defined"
     ]
    }
   ],
   "source": [
    "print(\"decoding packets\")\n",
    "starttime = time.time()\n",
    "\n",
    "f1=open('rec_calBlue.tiff','wb')\n",
    "f1.truncate()\n",
    "\n",
    "fs = 48000\n",
    "modem = TNCaprs(fs = fs ,Abuffer = 512,Nchunks = 10)\n",
    "\n",
    "while(not(Qin.empty())):\n",
    "    message=Qin.get()\n",
    "    packets=modem.processBuffer(message)\n",
    "    for packet in packets:\n",
    "        #print(npack)\n",
    "        ax = modem.decodeAX25(packet)\n",
    "        f1.write(ax.info)\n",
    "while not(Qin.empty()):\n",
    "    samples=Qin.get()\n",
    "\n",
    "print(\"DONE!!\")\n",
    "print(time.time() - starttime)\n",
    "f1.close()"
   ]
  },
  {
   "cell_type": "code",
   "execution_count": null,
   "metadata": {
    "collapsed": true
   },
   "outputs": [],
   "source": [
    "from PIL import Image\n",
    "path = \"rec_calBlue.tiff\"\n",
    "a = Image.open(path)\n",
    "plt.imshow(a)\n",
    "\n",
    "!ls -ltr *calBlue.tiff"
   ]
  }
 ],
 "metadata": {
  "kernelspec": {
   "display_name": "Python 3",
   "language": "python",
   "name": "python3"
  },
  "language_info": {
   "codemirror_mode": {
    "name": "ipython",
    "version": 3
   },
   "file_extension": ".py",
   "mimetype": "text/x-python",
   "name": "python",
   "nbconvert_exporter": "python",
   "pygments_lexer": "ipython3",
   "version": "3.5.3"
  }
 },
 "nbformat": 4,
 "nbformat_minor": 2
}
