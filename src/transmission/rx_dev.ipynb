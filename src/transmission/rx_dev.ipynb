{
 "cells": [
  {
   "cell_type": "code",
   "execution_count": 1,
   "metadata": {
    "collapsed": true
   },
   "outputs": [],
   "source": [
    "import sys\n",
    "sys.path.append(\"/Users/zhouhang/Project/Chirp-EE123/src\")"
   ]
  },
  {
   "cell_type": "markdown",
   "metadata": {},
   "source": [
    "# Record"
   ]
  },
  {
   "cell_type": "code",
   "execution_count": null,
   "metadata": {
    "collapsed": true
   },
   "outputs": [],
   "source": [
    "Qin = Queue.Queue()\n",
    "\n",
    "def queueREPLAY_callback(indata,outdata, frames, time, status):\n",
    "    if status:\n",
    "        print(status)\n",
    "    outdata[:] = indata\n",
    "    Qin.put( indata.copy()[:,0] ) # Global queue\n",
    "st = sd.Stream(device=(usb_idx,builtin_idx),callback=queueREPLAY_callback)\n",
    "\n",
    "st.start()"
   ]
  },
  {
   "cell_type": "markdown",
   "metadata": {},
   "source": [
    "Stop after TX has finished"
   ]
  },
  {
   "cell_type": "code",
   "execution_count": null,
   "metadata": {
    "collapsed": true
   },
   "outputs": [],
   "source": [
    "st.stop()\n",
    "st.close()"
   ]
  },
  {
   "cell_type": "markdown",
   "metadata": {},
   "source": [
    "# Decode and reconstruct image/gif"
   ]
  },
  {
   "cell_type": "code",
   "execution_count": null,
   "metadata": {
    "collapsed": true
   },
   "outputs": [],
   "source": [
    "print(\"decoding packets\")\n",
    "starttime = time.time()\n",
    "\n",
    "f1=open('rec_calBlue.tiff','wb')\n",
    "f1.truncate()\n",
    "\n",
    "while(not(Qin.empty())):\n",
    "    message=Qin.get()\n",
    "    packets=modem.processBuffer(message)\n",
    "    for packet in packets:\n",
    "        #print(npack)\n",
    "        ax = modem.decodeAX25(packet)\n",
    "        f1.write(ax.info)\n",
    "while not(Qin.empty()):\n",
    "    samples=Qin.get()\n",
    "\n",
    "print(\"DONE!!\")\n",
    "print(time.time() - starttime)\n",
    "f1.close()"
   ]
  },
  {
   "cell_type": "code",
   "execution_count": null,
   "metadata": {
    "collapsed": true
   },
   "outputs": [],
   "source": [
    "from PIL import Image\n",
    "path = \"rec_calBlue.tiff\"\n",
    "a = Image.open(path)\n",
    "plt.imshow(a)\n",
    "\n",
    "!ls -ltr *calBlue.tiff"
   ]
  }
 ],
 "metadata": {
  "kernelspec": {
   "display_name": "Python 3",
   "language": "python",
   "name": "python3"
  },
  "language_info": {
   "codemirror_mode": {
    "name": "ipython",
    "version": 3
   },
   "file_extension": ".py",
   "mimetype": "text/x-python",
   "name": "python",
   "nbconvert_exporter": "python",
   "pygments_lexer": "ipython3",
   "version": "3.6.1"
  }
 },
 "nbformat": 4,
 "nbformat_minor": 2
}
