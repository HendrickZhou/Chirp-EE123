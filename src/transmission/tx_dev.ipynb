{
 "cells": [
  {
   "cell_type": "code",
   "execution_count": 3,
   "metadata": {},
   "outputs": [],
   "source": [
    "import sys\n",
    "import os\n",
    "sys.path.append(\"/home/pi/EE123/Chirp-EE123\")\n",
    "\n",
    "cur_path = os.path.dirname('/home/pi/EE123/Chirp-EE123')\n",
    "sys.path.insert(0, '/home/pi/EE123/Chirp-EE123/src')\n",
    "\n",
    "from utils.EE123TNC import *\n",
    "from utils.hamming import *\n",
    "\n",
    "import sounddevice as sd\n",
    "import RPi.GPIO as GPIO"
   ]
  },
  {
   "cell_type": "markdown",
   "metadata": {},
   "source": [
    "# Load image/gif into queue"
   ]
  },
  {
   "cell_type": "code",
   "execution_count": 2,
   "metadata": {},
   "outputs": [
    {
     "name": "stdout",
     "output_type": "stream",
     "text": [
      "Putting packets in Queue\n",
      "Processing took: 3.018162727355957\n",
      "Done\n"
     ]
    }
   ],
   "source": [
    "callsign = \"KM6QHM\"\n",
    "Digi =b'WIDE1-1,WIDE2-1'\n",
    "dest = \"APCAL\"\n",
    "fname = b\"../../asset/calBlue.tiff\"\n",
    "f = open(fname,\"rb\")\n",
    "fs = 48000\n",
    "modem = TNCaprs(fs = fs ,Abuffer = 512,Nchunks = 10)\n",
    "print(\"Putting packets in Queue\")\n",
    "\n",
    "starttime = time.time()\n",
    "npack = 0\n",
    "prefix = bitarray.bitarray(np.tile([0,1,1,1,1,1,1,0],(40,)).tolist())\n",
    "Qout=Queue.Queue()\n",
    "while True:\n",
    "    chunk=f.read(256)\n",
    "    if chunk:\n",
    "        info = chunk\n",
    "        packet = ax25.UI(\n",
    "            destination=dest,\n",
    "            source=callsign,\n",
    "            info=info,\n",
    "            digipeaters=Digi.split(b','),\n",
    "            )\n",
    "        bits=modem.NRZ2NRZI(prefix+packet.unparse()+prefix)\n",
    "        packets = modem.modulate(bits)\n",
    "        Qout.put(packets)\n",
    "    else:\n",
    "        break\n",
    "\n",
    "print(\"Processing took:\", time.time()-starttime)\n",
    "print(\"Done\")\n",
    "\n",
    "f.close()"
   ]
  },
  {
   "cell_type": "markdown",
   "metadata": {},
   "source": [
    "# Transmit image/gif"
   ]
  },
  {
   "cell_type": "code",
   "execution_count": 14,
   "metadata": {},
   "outputs": [
    {
     "name": "stderr",
     "output_type": "stream",
     "text": [
      "/usr/local/lib/python3.5/dist-packages/ipykernel_launcher.py:1: RuntimeWarning: No channels have been set up yet - nothing to clean up!  Try cleaning up at the end of your program instead!\n",
      "  \"\"\"Entry point for launching an IPython kernel.\n",
      "/usr/local/lib/python3.5/dist-packages/ipykernel_launcher.py:4: RuntimeWarning: This channel is already in use, continuing anyway.  Use GPIO.setwarnings(False) to disable warnings.\n",
      "  after removing the cwd from sys.path.\n"
     ]
    },
    {
     "name": "stdout",
     "output_type": "stream",
     "text": [
      "Starting transmission...\n",
      "Done\n",
      "115.83593916893005\n"
     ]
    }
   ],
   "source": [
    "GPIO.cleanup()\n",
    "GPIO.setmode(GPIO.BOARD)\n",
    "PTT = 16\n",
    "GPIO.setup(PTT, GPIO.OUT, initial = 0)\n",
    "\n",
    "print(\"Starting transmission...\")\n",
    "starttime = time.time()\n",
    "\n",
    "GPIO.output(PTT, GPIO.HIGH)\n",
    "while(not(Qout.empty())):\n",
    "    sig=Qout.get()\n",
    "    sd.play(sig*0.2,samplerate=48000,device=usb_idx, blocking=True)\n",
    "GPIO.output(PTT, GPIO.LOW)\n",
    "\n",
    "print(\"Done\")\n",
    "print(time.time() - starttime)"
   ]
  },
  {
   "cell_type": "code",
   "execution_count": null,
   "metadata": {},
   "outputs": [],
   "source": []
  }
 ],
 "metadata": {
  "kernelspec": {
   "display_name": "Python 3",
   "language": "python",
   "name": "python3"
  },
  "language_info": {
   "codemirror_mode": {
    "name": "ipython",
    "version": 3
   },
   "file_extension": ".py",
   "mimetype": "text/x-python",
   "name": "python",
   "nbconvert_exporter": "python",
   "pygments_lexer": "ipython3",
   "version": "3.5.3"
  }
 },
 "nbformat": 4,
 "nbformat_minor": 2
}
