{
 "cells": [
  {
   "cell_type": "code",
   "execution_count": 1,
   "metadata": {},
   "outputs": [],
   "source": [
    "import sys\n",
    "import os\n",
    "sys.path.append(\"/home/pi/EE123/Chirp-EE123\")\n",
    "\n",
    "cur_path = os.path.dirname('/home/pi/EE123/Chirp-EE123')\n",
    "sys.path.insert(0, '/home/pi/EE123/Chirp-EE123/src')\n",
    "\n",
    "from utils.EE123TNC import *\n",
    "from utils.hamming import *\n",
    "\n",
    "import sounddevice as sd\n",
    "import RPi.GPIO as GPIO"
   ]
  },
  {
   "cell_type": "markdown",
   "metadata": {},
   "source": [
    "# Load image/gif into queue"
   ]
  },
  {
   "cell_type": "code",
   "execution_count": 21,
   "metadata": {},
   "outputs": [
    {
     "name": "stdout",
     "output_type": "stream",
     "text": [
      "Putting packets in Queue\n",
      "Processing took: 2.5710527896881104\n",
      "Done\n"
     ]
    }
   ],
   "source": [
    "fname = b\"calBlue.tiff\"\n",
    "f1=open('rec_calBlue2.tiff','wb')\n",
    "f = open(fname,\"rb\")\n",
    "fs = 48000\n",
    "modem = TNCaprs(fs = fs ,Abuffer = 512,Nchunks = 10)\n",
    "print(\"Putting packets in Queue\")\n",
    "\n",
    "starttime = time.time()\n",
    "npack = 0\n",
    "prefix = bitarray.bitarray(np.tile([0,1,1,1,1,1,1,0],(40,)).tolist())\n",
    "Qout=Queue.Queue()\n",
    "while True:\n",
    "    chunk=f.read(256)\n",
    "    if chunk:\n",
    "        info = chunk\n",
    "        info += bytes(256 - len(info))\n",
    "        f1.write(info)\n",
    "#         print(len(info))\n",
    "        packet = ax25.UI(info=info)\n",
    "        bits=modem.NRZ2NRZI(prefix+packet.unparse()+prefix)\n",
    "        packets = modem.modulate(bits)\n",
    "        Qout.put(packets)\n",
    "    else:\n",
    "        break\n",
    "\n",
    "print(\"Processing took:\", time.time()-starttime)\n",
    "print(\"Done\")\n",
    "\n",
    "f.close()"
   ]
  },
  {
   "cell_type": "code",
   "execution_count": 20,
   "metadata": {},
   "outputs": [
    {
     "name": "stdout",
     "output_type": "stream",
     "text": [
      "-rw-r--r-- 1 pi pi 8746 May  5 17:54 calBlue.tiff\r\n",
      "-rw-r--r-- 1 pi pi 8746 May  5 18:07 rec_calBlue.tiff\r\n"
     ]
    },
    {
     "data": {
      "image/png": "[encoded data removed]",
      "text/plain": [
       "<matplotlib.figure.Figure at 0x6dc92490>"
      ]
     },
     "metadata": {
      "needs_background": "light"
     },
     "output_type": "display_data"
    }
   ],
   "source": [
    "import matplotlib.pyplot as plt\n",
    "%matplotlib inline\n",
    "from PIL import Image\n",
    "path = \"rec_calBlue2.tiff\"\n",
    "a = Image.open(path)\n",
    "plt.imshow(a)\n",
    "\n",
    "!ls -ltr *calBlue.tiff"
   ]
  },
  {
   "cell_type": "markdown",
   "metadata": {},
   "source": [
    "# Transmit image/gif"
   ]
  },
  {
   "cell_type": "code",
   "execution_count": 22,
   "metadata": {},
   "outputs": [
    {
     "name": "stdout",
     "output_type": "stream",
     "text": [
      "Starting transmission...\n",
      "Done\n",
      "109.69600296020508\n"
     ]
    }
   ],
   "source": [
    "GPIO.cleanup()\n",
    "GPIO.setmode(GPIO.BOARD)\n",
    "PTT = 16\n",
    "GPIO.setup(PTT, GPIO.OUT, initial = 0)\n",
    "\n",
    "print(\"Starting transmission...\")\n",
    "starttime = time.time()\n",
    "\n",
    "GPIO.output(PTT, GPIO.HIGH)\n",
    "while(not(Qout.empty())):\n",
    "    sig=Qout.get()\n",
    "    sd.play(sig*0.2,samplerate=48000,device=usb_idx, blocking=True)\n",
    "GPIO.output(PTT, GPIO.LOW)\n",
    "\n",
    "print(\"Done\")\n",
    "print(time.time() - starttime)"
   ]
  },
  {
   "cell_type": "code",
   "execution_count": null,
   "metadata": {},
   "outputs": [],
   "source": []
  }
 ],
 "metadata": {
  "kernelspec": {
   "display_name": "Python 3",
   "language": "python",
   "name": "python3"
  },
  "language_info": {
   "codemirror_mode": {
    "name": "ipython",
    "version": 3
   },
   "file_extension": ".py",
   "mimetype": "text/x-python",
   "name": "python",
   "nbconvert_exporter": "python",
   "pygments_lexer": "ipython3",
   "version": "3.5.3"
  }
 },
 "nbformat": 4,
 "nbformat_minor": 2
}
