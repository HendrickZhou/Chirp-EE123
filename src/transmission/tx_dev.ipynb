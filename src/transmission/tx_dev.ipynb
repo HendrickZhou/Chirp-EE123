{
 "cells": [
  {
   "cell_type": "code",
   "execution_count": 5,
   "metadata": {},
   "outputs": [],
   "source": [
    "import sys\n",
    "sys.path.append(\"Users\\James\\Dropbox\\Projects\\Chirp-EE123\\src\")\n",
    "\n",
    "import sounddevice as sd\n",
    "import RPi.GPIO as GPIO"
   ]
  },
  {
   "cell_type": "markdown",
   "metadata": {},
   "source": [
    "# Load image/gif into queue"
   ]
  },
  {
   "cell_type": "code",
   "execution_count": null,
   "metadata": {
    "collapsed": true
   },
   "outputs": [],
   "source": [
    "callsign = \"KM6QHM\"\n",
    "Digi =b'WIDE1-1,WIDE2-1'\n",
    "dest = \"APCAL\"\n",
    "fname = b\"calBlue.tiff\"\n",
    "f = open(fname,\"rb\")\n",
    "fs = 48000\n",
    "modem = TNCaprs(fs = fs ,Abuffer = 512,Nchunks = 10)\n",
    "print(\"Putting packets in Queue\")\n",
    "\n",
    "starttime = time.time()\n",
    "npack = 0\n",
    "prefix = bitarray.bitarray(np.tile([0,1,1,1,1,1,1,0],(40,)).tolist())\n",
    "Qout=Queue.Queue()\n",
    "while True:\n",
    "    chunk=f.read(256)\n",
    "    if chunk:\n",
    "        info = chunk\n",
    "        packet = ax25.UI(\n",
    "            destination=dest,\n",
    "            source=callsign,\n",
    "            info=info,\n",
    "            digipeaters=Digi.split(b','),\n",
    "            )\n",
    "        bits=modem.NRZ2NRZI(prefix+packet.unparse()+prefix)\n",
    "        packets = modem.modulate(bits)\n",
    "        Qout.put(packets)\n",
    "    else:\n",
    "        break\n",
    "\n",
    "print(\"Processing took:\", time.time()-starttime)\n",
    "print(\"Done\")\n",
    "\n",
    "f.close()"
   ]
  },
  {
   "cell_type": "markdown",
   "metadata": {},
   "source": [
    "# Transmit image/gif"
   ]
  },
  {
   "cell_type": "code",
   "execution_count": null,
   "metadata": {
    "collapsed": true
   },
   "outputs": [],
   "source": [
    "GPIO.cleanup()\n",
    "GPIO.setmode(GPIO.BOARD)\n",
    "PTT = 16\n",
    "GPIO.setup(PTT, GPIO.OUT, initial = 0)\n",
    "\n",
    "print(\"Starting transmission...\")\n",
    "starttime = time.time()\n",
    "\n",
    "GPIO.output(PTT, GPIO.HIGH)\n",
    "while(not(Qout.empty())):\n",
    "    sig=Qout.get()\n",
    "    sd.play(sig*0.2,samplerate=48000,device=usb_idx, blocking=True)\n",
    "GPIO.output(PTT, GPIO.LOW)\n",
    "\n",
    "print(\"Done\")\n",
    "print(time.time() - starttime)"
   ]
  }
 ],
 "metadata": {
  "kernelspec": {
   "display_name": "Python 3",
   "language": "python",
   "name": "python3"
  },
  "language_info": {
   "codemirror_mode": {
    "name": "ipython",
    "version": 3
   },
   "file_extension": ".py",
   "mimetype": "text/x-python",
   "name": "python",
   "nbconvert_exporter": "python",
   "pygments_lexer": "ipython3",
   "version": "3.6.1"
  }
 },
 "nbformat": 4,
 "nbformat_minor": 2
}
